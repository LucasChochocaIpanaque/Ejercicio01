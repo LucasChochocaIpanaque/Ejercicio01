{
 "cells": [
  {
   "cell_type": "markdown",
   "id": "ace8ac4d",
   "metadata": {},
   "source": [
    "# NO TE QUEDES SIN TU LAPTOP!!"
   ]
  },
  {
   "cell_type": "markdown",
   "id": "84655164",
   "metadata": {},
   "source": [
    "***"
   ]
  },
  {
   "cell_type": "markdown",
   "id": "6dc97f5c",
   "metadata": {},
   "source": [
    "#### - Prueva tu suerte, obten una cantidad de puntos y GANA!!"
   ]
  },
  {
   "cell_type": "markdown",
   "id": "286206aa",
   "metadata": {},
   "source": [
    "#### PREMIOS:"
   ]
  },
  {
   "cell_type": "markdown",
   "id": "ce7fa4a8",
   "metadata": {},
   "source": [
    "#### CON 1200 Puntos\n",
    "* Una Laptop ASUS GA401II-HE003T 14\" IPS FHD, AMD Ryzen 7 4800HS 2.9 / 4.20 GHz, 16GB DDR4, 512GB SSD, Nvidia GeForce GTX 1650Ti 4GB. Windows 10 Home"
   ]
  },
  {
   "cell_type": "markdown",
   "id": "5d8238ce",
   "metadata": {},
   "source": [
    "![imagen](https://www.buyima.com/455-medium_default/notebook-asus-ga401ii-he003t-14-ips-fhd-amd-ryzen-7-4800hs-29-420-ghz-16gb-ddr4.jpg)"
   ]
  },
  {
   "cell_type": "markdown",
   "id": "f6584c97",
   "metadata": {},
   "source": [
    "#### Con 900 Puntos\n",
    "* Una LAPTOP HP PAVILION GAMING 16-A0001LA INTEL CORE I5 8GB 512GB SSD 4GB"
   ]
  },
  {
   "cell_type": "markdown",
   "id": "845a1aff",
   "metadata": {},
   "source": [
    "![imagen](https://plazavea.vteximg.com.br/arquivos/ids/2026717-450-450/20199935.jpg)"
   ]
  },
  {
   "cell_type": "markdown",
   "id": "0c4fb448",
   "metadata": {},
   "source": [
    "### Con 600 puntos\n",
    "* Una Laptop Lenovo IdeaPad 3 14IIL05 14\" Intel Core i3 1005G1 1TB 4GB RAM"
   ]
  },
  {
   "cell_type": "markdown",
   "id": "3f8f615e",
   "metadata": {},
   "source": [
    "![imagen](https://hiraoka.com.pe/media/catalog/product/cache/a357cb11a228eb6f7f15c0ee1ff203af/1/2/122077_1_1.jpg)"
   ]
  },
  {
   "cell_type": "markdown",
   "id": "01cb694b",
   "metadata": {},
   "source": [
    "### Con 300 puntos\n",
    "* Una Laptop HP Pavilion dv4-1413LA con procesador AMD Athlon X2 QL-65,3 GB DDR2 de ram, pantalla LED 14.1\" (1280x800)"
   ]
  },
  {
   "cell_type": "markdown",
   "id": "48c5dbf6",
   "metadata": {},
   "source": [
    "![imagen](https://m.media-amazon.com/images/I/41SQNBvVs4L._AC_SY355_.jpg)"
   ]
  },
  {
   "cell_type": "markdown",
   "id": "878cc179",
   "metadata": {},
   "source": [
    "### Con 100 puntos\n",
    "* Una laptop eleron N4000 con 2 de ram y una pantalla 4k de 60hz."
   ]
  },
  {
   "cell_type": "markdown",
   "id": "55827ed8",
   "metadata": {},
   "source": [
    "![imagen](http://www.joelsedano.com/blog/wp-content/uploads/2017/02/gpd-win.jpg)"
   ]
  },
  {
   "cell_type": "code",
   "execution_count": 12,
   "id": "e4496bec",
   "metadata": {},
   "outputs": [
    {
     "name": "stdout",
     "output_type": "stream",
     "text": [
      "[  1 100 200]\n"
     ]
    }
   ],
   "source": [
    "import numpy as np\n",
    "a = numpy.array([1,100,200])\n",
    "print(a)"
   ]
  },
  {
   "cell_type": "code",
   "execution_count": 13,
   "id": "84403f26",
   "metadata": {},
   "outputs": [
    {
     "name": "stdout",
     "output_type": "stream",
     "text": [
      "[   1  100  200  300  900 1200]\n"
     ]
    }
   ],
   "source": [
    "newArray = numpy.append(a, [300,900,1200])\n",
    "print(newArray)"
   ]
  },
  {
   "cell_type": "code",
   "execution_count": 15,
   "id": "1afab5c0",
   "metadata": {},
   "outputs": [
    {
     "name": "stdout",
     "output_type": "stream",
     "text": [
      "[0.82433062 0.91049169 0.10965154 ... 0.71021304 0.52402812 0.97767461]\n"
     ]
    }
   ],
   "source": [
    "m = np.random.rand(1200)\n",
    "print(m)"
   ]
  },
  {
   "cell_type": "markdown",
   "id": "6797d945",
   "metadata": {},
   "source": [
    "***"
   ]
  },
  {
   "cell_type": "markdown",
   "id": "dda14602",
   "metadata": {},
   "source": [
    "### Prueba tu suerte!!!"
   ]
  },
  {
   "cell_type": "code",
   "execution_count": 24,
   "id": "88c04d0d",
   "metadata": {},
   "outputs": [
    {
     "name": "stdout",
     "output_type": "stream",
     "text": [
      "1133\n"
     ]
    }
   ],
   "source": [
    "#Prueba tu suerte!!!\n",
    "m = np.random.randint(1200)\n",
    "print(m)"
   ]
  },
  {
   "cell_type": "code",
   "execution_count": 26,
   "id": "ec92d89b",
   "metadata": {},
   "outputs": [
    {
     "name": "stdout",
     "output_type": "stream",
     "text": [
      "Canjeable una LAPTOP HP PAVILION GAMING!! \n"
     ]
    }
   ],
   "source": [
    "cantidad = 1133\n",
    "if cantidad >=1200:\n",
    "    print(\"Felicidades ganaste el premio MAYOR!!\")\n",
    "elif cantidad >=900:\n",
    "    print(\"Canjeable una LAPTOP HP PAVILION GAMING!! \")\n",
    "elif cantidad >=600:\n",
    "    print(\"Canjeable por una Laptop Lenovo IdeaPad 3\")\n",
    "elif cantidad >=300:\n",
    "    print(\"Canjeable por una Laptop HP Pavilion\")\n",
    "elif cantidad >=100:\n",
    "    print(\"Canjeable por una laptop eleron N4000\")\n",
    "elif cantidad <=99:\n",
    "    print(\"Lo siento..., Suerte para la proxima\")"
   ]
  },
  {
   "cell_type": "code",
   "execution_count": null,
   "id": "fef86703",
   "metadata": {},
   "outputs": [],
   "source": []
  }
 ],
 "metadata": {
  "kernelspec": {
   "display_name": "Python 3",
   "language": "python",
   "name": "python3"
  },
  "language_info": {
   "codemirror_mode": {
    "name": "ipython",
    "version": 3
   },
   "file_extension": ".py",
   "mimetype": "text/x-python",
   "name": "python",
   "nbconvert_exporter": "python",
   "pygments_lexer": "ipython3",
   "version": "3.8.8"
  }
 },
 "nbformat": 4,
 "nbformat_minor": 5
}
